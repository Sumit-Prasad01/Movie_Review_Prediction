{
 "cells": [
  {
   "cell_type": "code",
   "execution_count": 1,
   "id": "f3db497b",
   "metadata": {},
   "outputs": [],
   "source": [
    "import numpy as np\n",
    "import tensorflow as tf\n",
    "from tensorflow.keras.datasets import imdb\n",
    "from tensorflow.keras.preprocessing import sequence\n",
    "from tensorflow.keras.models import load_model"
   ]
  },
  {
   "cell_type": "code",
   "execution_count": 2,
   "id": "61b345f4",
   "metadata": {},
   "outputs": [],
   "source": [
    "# Load the IMDB dataset word index\n",
    "word_index = imdb.get_word_index()\n",
    "reverse_word_index = {value: key for key, value in word_index.items()}"
   ]
  },
  {
   "cell_type": "code",
   "execution_count": 3,
   "id": "d413f883",
   "metadata": {},
   "outputs": [
    {
     "name": "stderr",
     "output_type": "stream",
     "text": [
      "c:\\Users\\sumit\\OneDrive\\Desktop\\Movie_Reviews_Prediction\\movie_env\\Lib\\site-packages\\keras\\src\\saving\\saving_lib.py:802: UserWarning: Skipping variable loading for optimizer 'rmsprop', because it has 8 variables whereas the saved optimizer has 14 variables. \n",
      "  saveable.load_own_variables(weights_store.get(inner_path))\n"
     ]
    },
    {
     "data": {
      "text/html": [
       "<pre style=\"white-space:pre;overflow-x:auto;line-height:normal;font-family:Menlo,'DejaVu Sans Mono',consolas,'Courier New',monospace\"><span style=\"font-weight: bold\">Model: \"sequential\"</span>\n",
       "</pre>\n"
      ],
      "text/plain": [
       "\u001b[1mModel: \"sequential\"\u001b[0m\n"
      ]
     },
     "metadata": {},
     "output_type": "display_data"
    },
    {
     "data": {
      "text/html": [
       "<pre style=\"white-space:pre;overflow-x:auto;line-height:normal;font-family:Menlo,'DejaVu Sans Mono',consolas,'Courier New',monospace\">┏━━━━━━━━━━━━━━━━━━━━━━━━━━━━━━━━━┳━━━━━━━━━━━━━━━━━━━━━━━━┳━━━━━━━━━━━━━━━┓\n",
       "┃<span style=\"font-weight: bold\"> Layer (type)                    </span>┃<span style=\"font-weight: bold\"> Output Shape           </span>┃<span style=\"font-weight: bold\">       Param # </span>┃\n",
       "┡━━━━━━━━━━━━━━━━━━━━━━━━━━━━━━━━━╇━━━━━━━━━━━━━━━━━━━━━━━━╇━━━━━━━━━━━━━━━┩\n",
       "│ embedding (<span style=\"color: #0087ff; text-decoration-color: #0087ff\">Embedding</span>)           │ (<span style=\"color: #00af00; text-decoration-color: #00af00\">32</span>, <span style=\"color: #00af00; text-decoration-color: #00af00\">500</span>, <span style=\"color: #00af00; text-decoration-color: #00af00\">128</span>)         │     <span style=\"color: #00af00; text-decoration-color: #00af00\">1,280,000</span> │\n",
       "├─────────────────────────────────┼────────────────────────┼───────────────┤\n",
       "│ simple_rnn (<span style=\"color: #0087ff; text-decoration-color: #0087ff\">SimpleRNN</span>)          │ (<span style=\"color: #00af00; text-decoration-color: #00af00\">32</span>, <span style=\"color: #00af00; text-decoration-color: #00af00\">128</span>)              │        <span style=\"color: #00af00; text-decoration-color: #00af00\">32,896</span> │\n",
       "├─────────────────────────────────┼────────────────────────┼───────────────┤\n",
       "│ dense (<span style=\"color: #0087ff; text-decoration-color: #0087ff\">Dense</span>)                   │ (<span style=\"color: #00af00; text-decoration-color: #00af00\">32</span>, <span style=\"color: #00af00; text-decoration-color: #00af00\">1</span>)                │           <span style=\"color: #00af00; text-decoration-color: #00af00\">129</span> │\n",
       "└─────────────────────────────────┴────────────────────────┴───────────────┘\n",
       "</pre>\n"
      ],
      "text/plain": [
       "┏━━━━━━━━━━━━━━━━━━━━━━━━━━━━━━━━━┳━━━━━━━━━━━━━━━━━━━━━━━━┳━━━━━━━━━━━━━━━┓\n",
       "┃\u001b[1m \u001b[0m\u001b[1mLayer (type)                   \u001b[0m\u001b[1m \u001b[0m┃\u001b[1m \u001b[0m\u001b[1mOutput Shape          \u001b[0m\u001b[1m \u001b[0m┃\u001b[1m \u001b[0m\u001b[1m      Param #\u001b[0m\u001b[1m \u001b[0m┃\n",
       "┡━━━━━━━━━━━━━━━━━━━━━━━━━━━━━━━━━╇━━━━━━━━━━━━━━━━━━━━━━━━╇━━━━━━━━━━━━━━━┩\n",
       "│ embedding (\u001b[38;5;33mEmbedding\u001b[0m)           │ (\u001b[38;5;34m32\u001b[0m, \u001b[38;5;34m500\u001b[0m, \u001b[38;5;34m128\u001b[0m)         │     \u001b[38;5;34m1,280,000\u001b[0m │\n",
       "├─────────────────────────────────┼────────────────────────┼───────────────┤\n",
       "│ simple_rnn (\u001b[38;5;33mSimpleRNN\u001b[0m)          │ (\u001b[38;5;34m32\u001b[0m, \u001b[38;5;34m128\u001b[0m)              │        \u001b[38;5;34m32,896\u001b[0m │\n",
       "├─────────────────────────────────┼────────────────────────┼───────────────┤\n",
       "│ dense (\u001b[38;5;33mDense\u001b[0m)                   │ (\u001b[38;5;34m32\u001b[0m, \u001b[38;5;34m1\u001b[0m)                │           \u001b[38;5;34m129\u001b[0m │\n",
       "└─────────────────────────────────┴────────────────────────┴───────────────┘\n"
      ]
     },
     "metadata": {},
     "output_type": "display_data"
    },
    {
     "data": {
      "text/html": [
       "<pre style=\"white-space:pre;overflow-x:auto;line-height:normal;font-family:Menlo,'DejaVu Sans Mono',consolas,'Courier New',monospace\"><span style=\"font-weight: bold\"> Total params: </span><span style=\"color: #00af00; text-decoration-color: #00af00\">2,626,052</span> (10.02 MB)\n",
       "</pre>\n"
      ],
      "text/plain": [
       "\u001b[1m Total params: \u001b[0m\u001b[38;5;34m2,626,052\u001b[0m (10.02 MB)\n"
      ]
     },
     "metadata": {},
     "output_type": "display_data"
    },
    {
     "data": {
      "text/html": [
       "<pre style=\"white-space:pre;overflow-x:auto;line-height:normal;font-family:Menlo,'DejaVu Sans Mono',consolas,'Courier New',monospace\"><span style=\"font-weight: bold\"> Trainable params: </span><span style=\"color: #00af00; text-decoration-color: #00af00\">1,313,025</span> (5.01 MB)\n",
       "</pre>\n"
      ],
      "text/plain": [
       "\u001b[1m Trainable params: \u001b[0m\u001b[38;5;34m1,313,025\u001b[0m (5.01 MB)\n"
      ]
     },
     "metadata": {},
     "output_type": "display_data"
    },
    {
     "data": {
      "text/html": [
       "<pre style=\"white-space:pre;overflow-x:auto;line-height:normal;font-family:Menlo,'DejaVu Sans Mono',consolas,'Courier New',monospace\"><span style=\"font-weight: bold\"> Non-trainable params: </span><span style=\"color: #00af00; text-decoration-color: #00af00\">0</span> (0.00 B)\n",
       "</pre>\n"
      ],
      "text/plain": [
       "\u001b[1m Non-trainable params: \u001b[0m\u001b[38;5;34m0\u001b[0m (0.00 B)\n"
      ]
     },
     "metadata": {},
     "output_type": "display_data"
    },
    {
     "data": {
      "text/html": [
       "<pre style=\"white-space:pre;overflow-x:auto;line-height:normal;font-family:Menlo,'DejaVu Sans Mono',consolas,'Courier New',monospace\"><span style=\"font-weight: bold\"> Optimizer params: </span><span style=\"color: #00af00; text-decoration-color: #00af00\">1,313,027</span> (5.01 MB)\n",
       "</pre>\n"
      ],
      "text/plain": [
       "\u001b[1m Optimizer params: \u001b[0m\u001b[38;5;34m1,313,027\u001b[0m (5.01 MB)\n"
      ]
     },
     "metadata": {},
     "output_type": "display_data"
    }
   ],
   "source": [
    "model = load_model('models/simple_rnn_imdb.keras')\n",
    "model.summary()"
   ]
  },
  {
   "cell_type": "code",
   "execution_count": 4,
   "id": "c44564d8",
   "metadata": {},
   "outputs": [
    {
     "data": {
      "text/plain": [
       "[array([[ 0.08951788,  0.03383769, -0.13215464, ...,  0.18021119,\n",
       "         -0.08051991,  0.08029802],\n",
       "        [ 0.03959578, -0.00908401,  0.0039359 , ...,  0.00273595,\n",
       "          0.02767414, -0.05896392],\n",
       "        [-0.00400555, -0.06299042,  0.01717566, ...,  0.08608095,\n",
       "         -0.0256338 , -0.04464387],\n",
       "        ...,\n",
       "        [-0.0460941 , -0.04879107, -0.04458175, ...,  0.00836469,\n",
       "         -0.03936803, -0.05582469],\n",
       "        [-0.02120612,  0.01852921,  0.08837032, ...,  0.01169313,\n",
       "          0.03530798, -0.05122362],\n",
       "        [ 0.05274781, -0.12391888,  0.00721344, ..., -0.11054317,\n",
       "         -0.05093052,  0.00944336]], dtype=float32),\n",
       " array([[ 0.02073842, -0.09539027,  0.07689086, ..., -0.09975623,\n",
       "          0.0547036 , -0.04308551],\n",
       "        [ 0.08941485,  0.09015448, -0.05370711, ..., -0.14221154,\n",
       "         -0.03318951, -0.08519508],\n",
       "        [-0.02386169, -0.10395788, -0.16572663, ..., -0.01624725,\n",
       "          0.07092744, -0.04641001],\n",
       "        ...,\n",
       "        [-0.1887046 ,  0.17460807, -0.01058653, ...,  0.15230924,\n",
       "         -0.04539693,  0.14706083],\n",
       "        [ 0.10436317, -0.03873029, -0.04909264, ..., -0.11284201,\n",
       "         -0.1020595 ,  0.14477426],\n",
       "        [ 0.07878782, -0.12070885, -0.02361513, ..., -0.07075565,\n",
       "          0.05007502,  0.08044378]], dtype=float32),\n",
       " array([[ 0.0617285 ,  0.11824685, -0.20374678, ...,  0.13459215,\n",
       "         -0.02837255,  0.14397693],\n",
       "        [ 0.05028168,  0.00900756,  0.18472314, ..., -0.09159853,\n",
       "         -0.01762382,  0.1423431 ],\n",
       "        [-0.20091209, -0.04973822,  0.03203199, ..., -0.06666704,\n",
       "          0.00648694,  0.0626659 ],\n",
       "        ...,\n",
       "        [ 0.00035919,  0.00168608,  0.07823047, ..., -0.17623724,\n",
       "          0.10022542,  0.01713413],\n",
       "        [ 0.08906272, -0.01297572,  0.00819692, ...,  0.06202038,\n",
       "          0.04005426,  0.07764744],\n",
       "        [ 0.06952151,  0.04967202,  0.16228259, ...,  0.04690257,\n",
       "         -0.05783737, -0.14479704]], dtype=float32),\n",
       " array([-0.02233801,  0.03299388,  0.04783468, -0.01567945,  0.00567349,\n",
       "        -0.04415801, -0.01722986,  0.01879917,  0.00881478, -0.01444104,\n",
       "        -0.01708595, -0.00745996, -0.02318532, -0.00972521, -0.03181761,\n",
       "        -0.00615241,  0.00475274, -0.00635369,  0.02087264, -0.00417641,\n",
       "         0.00139955, -0.03003394, -0.02665363, -0.03156593,  0.00083669,\n",
       "         0.01904379, -0.03817366, -0.01565547, -0.01544474, -0.00520446,\n",
       "         0.00075577, -0.04552159,  0.00895679, -0.02763708,  0.02354093,\n",
       "        -0.01820103, -0.04744701, -0.01653142,  0.01852496, -0.00193424,\n",
       "        -0.00479242, -0.03374063, -0.01546677, -0.02823759, -0.02471341,\n",
       "        -0.03657895, -0.03578047, -0.03388011, -0.02494091, -0.00232043,\n",
       "        -0.02101373, -0.03163622, -0.00400114, -0.01673538,  0.03314597,\n",
       "        -0.01023545, -0.0406562 , -0.0248884 ,  0.00321152, -0.02639992,\n",
       "        -0.02814043, -0.01967908,  0.01619057, -0.00629811, -0.00038349,\n",
       "         0.00169866, -0.02016926, -0.02212168,  0.00592376, -0.02693019,\n",
       "         0.04378513, -0.03832989, -0.00338302, -0.01023828, -0.02695724,\n",
       "        -0.01231487, -0.00705243,  0.01726086, -0.00959279,  0.00302112,\n",
       "        -0.01130424, -0.0402793 , -0.01593481, -0.00531817, -0.03118566,\n",
       "        -0.01022937, -0.04042192, -0.0476642 , -0.02101209, -0.0217576 ,\n",
       "        -0.00083958,  0.00046343, -0.02668507,  0.01234953, -0.00126329,\n",
       "        -0.01236842, -0.03203055, -0.01272199, -0.01889136,  0.00894778,\n",
       "        -0.03584657, -0.00381696,  0.03719233,  0.04227177, -0.02386847,\n",
       "        -0.00538802,  0.0044941 , -0.01560544,  0.01198977, -0.01245533,\n",
       "        -0.02076033, -0.00754902, -0.01455429, -0.02345022,  0.00601676,\n",
       "        -0.00521627, -0.0180675 ,  0.02055535,  0.00170597, -0.0016322 ,\n",
       "         0.03325047, -0.03703238, -0.06840416, -0.00652275, -0.02645281,\n",
       "        -0.01851313, -0.02089676,  0.00019782], dtype=float32),\n",
       " array([[ 0.17810224],\n",
       "        [ 0.11119783],\n",
       "        [-0.09349462],\n",
       "        [ 0.10064171],\n",
       "        [-0.02674283],\n",
       "        [ 0.0985524 ],\n",
       "        [ 0.02311569],\n",
       "        [ 0.09483556],\n",
       "        [ 0.11973508],\n",
       "        [-0.19534004],\n",
       "        [ 0.03581139],\n",
       "        [-0.24632874],\n",
       "        [-0.2507394 ],\n",
       "        [ 0.18203352],\n",
       "        [-0.07877564],\n",
       "        [-0.18260638],\n",
       "        [ 0.03703918],\n",
       "        [ 0.16966365],\n",
       "        [ 0.1356624 ],\n",
       "        [-0.20472349],\n",
       "        [-0.23453236],\n",
       "        [ 0.20227498],\n",
       "        [-0.15918164],\n",
       "        [-0.03926384],\n",
       "        [ 0.06377287],\n",
       "        [ 0.20184375],\n",
       "        [-0.07665288],\n",
       "        [ 0.21142018],\n",
       "        [-0.05215662],\n",
       "        [ 0.17221951],\n",
       "        [-0.24121535],\n",
       "        [ 0.01781036],\n",
       "        [-0.25931635],\n",
       "        [ 0.16712049],\n",
       "        [-0.13807695],\n",
       "        [ 0.11323752],\n",
       "        [-0.40048698],\n",
       "        [ 0.05522955],\n",
       "        [ 0.22039217],\n",
       "        [ 0.28598884],\n",
       "        [-0.10568048],\n",
       "        [ 0.22657607],\n",
       "        [-0.14996089],\n",
       "        [ 0.06516534],\n",
       "        [-0.04226268],\n",
       "        [ 0.14058325],\n",
       "        [ 1.0427856 ],\n",
       "        [ 0.05368466],\n",
       "        [ 0.18141375],\n",
       "        [-0.00495665],\n",
       "        [ 0.03849864],\n",
       "        [ 0.22918761],\n",
       "        [ 0.77004707],\n",
       "        [ 0.11467373],\n",
       "        [ 0.09989604],\n",
       "        [-0.11151044],\n",
       "        [-0.0177113 ],\n",
       "        [ 0.48623034],\n",
       "        [-0.18927097],\n",
       "        [-0.10049062],\n",
       "        [ 0.3472983 ],\n",
       "        [ 0.2165868 ],\n",
       "        [ 0.22392625],\n",
       "        [-0.01637513],\n",
       "        [-0.01310853],\n",
       "        [-0.10428776],\n",
       "        [ 0.21175851],\n",
       "        [ 0.1413167 ],\n",
       "        [-0.1331062 ],\n",
       "        [ 0.06077464],\n",
       "        [ 0.07145432],\n",
       "        [ 0.22675623],\n",
       "        [-0.17210563],\n",
       "        [-0.22615154],\n",
       "        [ 0.28205934],\n",
       "        [ 0.17621748],\n",
       "        [-0.2388409 ],\n",
       "        [ 0.211579  ],\n",
       "        [-0.21103232],\n",
       "        [-0.08547416],\n",
       "        [ 0.23919263],\n",
       "        [ 0.02659456],\n",
       "        [ 0.12978989],\n",
       "        [ 0.0012171 ],\n",
       "        [ 0.11485106],\n",
       "        [-0.14944826],\n",
       "        [ 0.01960628],\n",
       "        [ 0.0710046 ],\n",
       "        [ 0.12628534],\n",
       "        [ 0.03371553],\n",
       "        [ 0.01089755],\n",
       "        [ 0.11514366],\n",
       "        [ 0.21064977],\n",
       "        [ 0.0271081 ],\n",
       "        [-0.12444236],\n",
       "        [ 0.17851454],\n",
       "        [ 0.17166074],\n",
       "        [-0.03739402],\n",
       "        [-0.07775279],\n",
       "        [-0.26481643],\n",
       "        [ 0.00987381],\n",
       "        [-0.02595217],\n",
       "        [ 0.04941246],\n",
       "        [-0.16973792],\n",
       "        [ 0.13712968],\n",
       "        [-0.13942365],\n",
       "        [-0.13314688],\n",
       "        [ 1.1564378 ],\n",
       "        [ 0.20738202],\n",
       "        [ 0.22891998],\n",
       "        [-0.07676379],\n",
       "        [-0.15909499],\n",
       "        [-0.12460624],\n",
       "        [ 0.45117494],\n",
       "        [ 0.16053541],\n",
       "        [ 0.5996106 ],\n",
       "        [-0.00118981],\n",
       "        [ 0.38477492],\n",
       "        [-0.08498563],\n",
       "        [-0.19424175],\n",
       "        [-0.09264108],\n",
       "        [-0.01638343],\n",
       "        [ 0.39849257],\n",
       "        [-0.06093017],\n",
       "        [ 0.12892307],\n",
       "        [ 0.20207104],\n",
       "        [-0.08675736],\n",
       "        [-0.05505229]], dtype=float32),\n",
       " array([1.2903062], dtype=float32)]"
      ]
     },
     "execution_count": 4,
     "metadata": {},
     "output_type": "execute_result"
    }
   ],
   "source": [
    "model.get_weights()"
   ]
  },
  {
   "cell_type": "code",
   "execution_count": 5,
   "id": "39ed6cc5",
   "metadata": {},
   "outputs": [],
   "source": [
    "# Function to decode reviews\n",
    "def decode_review(encoded_review):\n",
    "    return ' '.join([reverse_word_index.get(i - 3, '?') for i in encoded_review])\n",
    "\n",
    "# Function to preprocess user input\n",
    "def preprocess_text(text):\n",
    "    words = text.lower().split()\n",
    "    encoded_review = [word_index.get(word, 2) + 3 for word in words]\n",
    "    padded_review = sequence.pad_sequences([encoded_review], maxlen=500)\n",
    "    return padded_review"
   ]
  },
  {
   "cell_type": "code",
   "execution_count": 6,
   "id": "95f4f1a6",
   "metadata": {},
   "outputs": [],
   "source": [
    "### Prediction  function\n",
    "\n",
    "def predict_sentiment(review):\n",
    "    preprocessed_input=preprocess_text(review)\n",
    "\n",
    "    prediction=model.predict(preprocessed_input)\n",
    "\n",
    "    sentiment = 'Positive' if prediction[0][0] > 0.5 else 'Negative'\n",
    "    \n",
    "    return sentiment, prediction[0][0]"
   ]
  },
  {
   "cell_type": "code",
   "execution_count": 7,
   "id": "3b7162f3",
   "metadata": {},
   "outputs": [
    {
     "name": "stdout",
     "output_type": "stream",
     "text": [
      "\u001b[1m1/1\u001b[0m \u001b[32m━━━━━━━━━━━━━━━━━━━━\u001b[0m\u001b[37m\u001b[0m \u001b[1m0s\u001b[0m 187ms/step\n",
      "Review: This movie was fantastic! The acting was great and the plot was thrilling.\n",
      "Sentiment: Positive\n",
      "Prediction Score: 0.7448900938034058\n"
     ]
    }
   ],
   "source": [
    "# Example review for prediction\n",
    "example_review = \"This movie was fantastic! The acting was great and the plot was thrilling.\"\n",
    "\n",
    "sentiment,score=predict_sentiment(example_review)\n",
    "\n",
    "print(f'Review: {example_review}')\n",
    "print(f'Sentiment: {sentiment}')\n",
    "print(f'Prediction Score: {score}')"
   ]
  }
 ],
 "metadata": {
  "kernelspec": {
   "display_name": "Python 3",
   "language": "python",
   "name": "python3"
  },
  "language_info": {
   "codemirror_mode": {
    "name": "ipython",
    "version": 3
   },
   "file_extension": ".py",
   "mimetype": "text/x-python",
   "name": "python",
   "nbconvert_exporter": "python",
   "pygments_lexer": "ipython3",
   "version": "3.12.0"
  }
 },
 "nbformat": 4,
 "nbformat_minor": 5
}
